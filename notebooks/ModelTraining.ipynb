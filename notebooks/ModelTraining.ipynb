{
 "cells": [
  {
   "cell_type": "code",
   "execution_count": 1,
   "metadata": {},
   "outputs": [],
   "source": [
    "## Importing required libraries\n",
    "import numpy as np\n",
    "import pandas as pd\n",
    "\n",
    "import warnings\n",
    "warnings.filterwarnings('ignore')"
   ]
  },
  {
   "cell_type": "code",
   "execution_count": 4,
   "metadata": {},
   "outputs": [],
   "source": [
    "import sys\n"
   ]
  },
  {
   "cell_type": "code",
   "execution_count": 22,
   "metadata": {},
   "outputs": [],
   "source": [
    "## Other imports\n",
    "\n",
    "from sklearn.model_selection import train_test_split\n",
    "from sklearn.preprocessing import StandardScaler\n",
    "from sklearn.ensemble import RandomForestRegressor, GradientBoostingRegressor\n",
    "from sklearn.ensemble import VotingRegressor\n",
    "from sklearn.ensemble import AdaBoostRegressor\n",
    "from sklearn.svm import SVR\n",
    "from sklearn.neighbors import KNeighborsRegressor\n",
    "from sklearn.tree import DecisionTreeRegressor\n",
    "from sklearn.pipeline import Pipeline\n",
    "from sklearn.model_selection import KFold\n",
    "from sklearn.model_selection import cross_val_score\n"
   ]
  },
  {
   "cell_type": "code",
   "execution_count": 23,
   "metadata": {},
   "outputs": [
    {
     "data": {
      "text/html": [
       "<div>\n",
       "<style scoped>\n",
       "    .dataframe tbody tr th:only-of-type {\n",
       "        vertical-align: middle;\n",
       "    }\n",
       "\n",
       "    .dataframe tbody tr th {\n",
       "        vertical-align: top;\n",
       "    }\n",
       "\n",
       "    .dataframe thead th {\n",
       "        text-align: right;\n",
       "    }\n",
       "</style>\n",
       "<table border=\"1\" class=\"dataframe\">\n",
       "  <thead>\n",
       "    <tr style=\"text-align: right;\">\n",
       "      <th></th>\n",
       "      <th>CICO</th>\n",
       "      <th>SM1_Dz(Z)</th>\n",
       "      <th>GATS1i</th>\n",
       "      <th>NdsCH</th>\n",
       "      <th>NdssC</th>\n",
       "      <th>MLOGP</th>\n",
       "      <th>LC50(mol/L)</th>\n",
       "    </tr>\n",
       "  </thead>\n",
       "  <tbody>\n",
       "    <tr>\n",
       "      <th>0</th>\n",
       "      <td>3.260</td>\n",
       "      <td>0.829</td>\n",
       "      <td>1.676</td>\n",
       "      <td>0</td>\n",
       "      <td>1</td>\n",
       "      <td>1.453</td>\n",
       "      <td>3.770</td>\n",
       "    </tr>\n",
       "    <tr>\n",
       "      <th>1</th>\n",
       "      <td>2.189</td>\n",
       "      <td>0.580</td>\n",
       "      <td>0.863</td>\n",
       "      <td>0</td>\n",
       "      <td>0</td>\n",
       "      <td>1.348</td>\n",
       "      <td>3.115</td>\n",
       "    </tr>\n",
       "    <tr>\n",
       "      <th>2</th>\n",
       "      <td>2.125</td>\n",
       "      <td>0.638</td>\n",
       "      <td>0.831</td>\n",
       "      <td>0</td>\n",
       "      <td>0</td>\n",
       "      <td>1.348</td>\n",
       "      <td>3.531</td>\n",
       "    </tr>\n",
       "    <tr>\n",
       "      <th>3</th>\n",
       "      <td>3.027</td>\n",
       "      <td>0.331</td>\n",
       "      <td>1.472</td>\n",
       "      <td>1</td>\n",
       "      <td>0</td>\n",
       "      <td>1.807</td>\n",
       "      <td>3.510</td>\n",
       "    </tr>\n",
       "    <tr>\n",
       "      <th>4</th>\n",
       "      <td>2.094</td>\n",
       "      <td>0.827</td>\n",
       "      <td>0.860</td>\n",
       "      <td>0</td>\n",
       "      <td>0</td>\n",
       "      <td>1.886</td>\n",
       "      <td>5.390</td>\n",
       "    </tr>\n",
       "  </tbody>\n",
       "</table>\n",
       "</div>"
      ],
      "text/plain": [
       "    CICO  SM1_Dz(Z)  GATS1i  NdsCH  NdssC  MLOGP  LC50(mol/L)\n",
       "0  3.260      0.829   1.676      0      1  1.453        3.770\n",
       "1  2.189      0.580   0.863      0      0  1.348        3.115\n",
       "2  2.125      0.638   0.831      0      0  1.348        3.531\n",
       "3  3.027      0.331   1.472      1      0  1.807        3.510\n",
       "4  2.094      0.827   0.860      0      0  1.886        5.390"
      ]
     },
     "execution_count": 23,
     "metadata": {},
     "output_type": "execute_result"
    }
   ],
   "source": [
    "## Reading the data\n",
    "qsar = pd.read_csv('data/qsar_fish_toxicity2.csv', sep=';', header=None)\n",
    "qsar.columns = ['CICO', 'SM1_Dz(Z)', 'GATS1i', 'NdsCH', 'NdssC', 'MLOGP', 'LC50(mol/L)']\n",
    "\n",
    "## Looking into the data\n",
    "df = qsar.copy()\n",
    "df.head()"
   ]
  },
  {
   "cell_type": "code",
   "execution_count": 24,
   "metadata": {},
   "outputs": [],
   "source": [
    "## Splitting the data into independent features and dependent features\n",
    "X, y = df.drop('LC50(mol/L)', axis=1), df['LC50(mol/L)']\n",
    "\n",
    "## Splitting the data into training data and testing data\n",
    "X_train, X_test, y_train, y_test = train_test_split(X, y, test_size=0.05, random_state=34, stratify=X[['NdsCH']])"
   ]
  },
  {
   "cell_type": "code",
   "execution_count": 25,
   "metadata": {},
   "outputs": [],
   "source": [
    "## Creating a pipeline for data preprocessing\n",
    "preprocess_pipe = Pipeline(steps=[\n",
    "    ('scaling', StandardScaler())\n",
    "])"
   ]
  },
  {
   "cell_type": "code",
   "execution_count": 27,
   "metadata": {},
   "outputs": [],
   "source": [
    "## Creating objects of the machine learning algorithms that we want to try\n",
    "\n",
    "## model 1: Support Vector Regression\n",
    "svr = SVR()\n",
    "\n",
    "## model 2: Nearest Neighbors Regression\n",
    "knr = KNeighborsRegressor()\n",
    "\n",
    "## model 3: Decision Tree Regression\n",
    "dtr = DecisionTreeRegressor(max_depth=4,random_state=123)\n",
    "\n",
    "## model 4: Random Forest Regression\n",
    "rfr = RandomForestRegressor()\n",
    "\n",
    "\n",
    "## model 6: AdaBoost Regressor\n",
    "abr = AdaBoostRegressor(random_state=123)\n",
    "\n",
    "## model 7: Gradient Boosting Regressor\n",
    "gbr = GradientBoostingRegressor()\n",
    "\n",
    "\n",
    "## model 9: voting regressor of model 1, model 2 and model 4\n",
    "vr = VotingRegressor(estimators = [('svr', svr), ('knr', knr), ('rfr', rfr), ('gbr', gbr)])\n"
   ]
  },
  {
   "cell_type": "code",
   "execution_count": 28,
   "metadata": {},
   "outputs": [],
   "source": [
    "## svr pipeline\n",
    "svr_pipe = Pipeline(steps=[\n",
    "    ('preprocess_pipe',preprocess_pipe),\n",
    "    ('svr_model',svr)\n",
    "])\n",
    "\n",
    "## knr pipeline\n",
    "knr_pipe = Pipeline(steps=[\n",
    "    ('preprocess_pipe',preprocess_pipe),\n",
    "    ('knr_model',knr)\n",
    "])\n",
    "\n",
    "## dtr pipeline\n",
    "dtr_pipe = Pipeline(steps=[\n",
    "    ('preprocess_pipe',preprocess_pipe),\n",
    "    ('dtr_model',dtr)\n",
    "])\n",
    "\n",
    "## rfr pipeline\n",
    "rfr_pipe = Pipeline(steps=[\n",
    "    ('preprocess_pipe',preprocess_pipe),\n",
    "    ('rfr_model',rfr)\n",
    "])\n",
    "\n",
    "\n",
    "## abr pipeline\n",
    "abr_pipe = Pipeline(steps=[\n",
    "    ('preprocess_pipe',preprocess_pipe),\n",
    "    ('abr_model', abr)\n",
    "])\n",
    "\n",
    "## gbr pipeline\n",
    "gbr_pipe = Pipeline(steps=[\n",
    "    ('preprocess_pipe',preprocess_pipe),\n",
    "    ('gbr_model', gbr)\n",
    "])\n",
    "\n",
    "## vr pipeline\n",
    "vr_pipe = Pipeline(steps=[\n",
    "    ('preprocess_pipe', preprocess_pipe),\n",
    "    ('vr_model', vr)\n",
    "])\n",
    "\n",
    "\n"
   ]
  },
  {
   "cell_type": "code",
   "execution_count": 32,
   "metadata": {},
   "outputs": [
    {
     "name": "stdout",
     "output_type": "stream",
     "text": [
      "The cross validation score for the model SupportVectorRegressor is 0.614 +/- 0.065.\n",
      "The cross validation score for the model KneighborsRegressor is 0.583 +/- 0.077.\n",
      "The cross validation score for the model DecisionTreeRegressor is 0.445 +/- 0.108.\n",
      "The cross validation score for the model RandomForestRegressor is 0.596 +/- 0.081.\n",
      "The cross validation score for the model AdaboostRegressor is 0.485 +/- 0.071.\n",
      "The cross validation score for the model GradientBoostRegressor is 0.589 +/- 0.097.\n",
      "The cross validation score for the model VotingRegressor is 0.631 +/- 0.079.\n"
     ]
    }
   ],
   "source": [
    "## Finding out the best model using the cross validation  \n",
    "\n",
    "pipelines = [svr_pipe, knr_pipe, dtr_pipe, rfr_pipe,abr_pipe, gbr_pipe, vr_pipe]\n",
    "models = ['SupportVectorRegressor', 'KneighborsRegressor', 'DecisionTreeRegressor', 'RandomForestRegressor',  'AdaboostRegressor', 'GradientBoostRegressor', 'VotingRegressor', ]\n",
    "cv = KFold(n_splits=5)\n",
    "for index, pipeline in enumerate(pipelines):\n",
    "    cv_list = cross_val_score(estimator=pipeline, X=X, y=y,cv=cv,scoring='r2')\n",
    "    mean = np.round(cv_list.mean(),3)\n",
    "    std = np.round(cv_list.std(),3)\n",
    "    print(f\"The cross validation score for the model {models[index]} is {mean} +/- {std}.\")"
   ]
  },
  {
   "cell_type": "code",
   "execution_count": null,
   "metadata": {},
   "outputs": [],
   "source": []
  }
 ],
 "metadata": {
  "kernelspec": {
   "display_name": "Python 3",
   "language": "python",
   "name": "python3"
  },
  "language_info": {
   "codemirror_mode": {
    "name": "ipython",
    "version": 3
   },
   "file_extension": ".py",
   "mimetype": "text/x-python",
   "name": "python",
   "nbconvert_exporter": "python",
   "pygments_lexer": "ipython3",
   "version": "3.8.18"
  }
 },
 "nbformat": 4,
 "nbformat_minor": 2
}
